{
 "cells": [
  {
   "cell_type": "code",
   "execution_count": 2,
   "metadata": {},
   "outputs": [
    {
     "name": "stdout",
     "output_type": "stream",
     "text": [
      "hello\n"
     ]
    }
   ],
   "source": [
    "## packages "
   ]
  },
  {
   "cell_type": "code",
   "execution_count": 7,
   "metadata": {},
   "outputs": [],
   "source": [
    "# needed if you want firebase connection\n",
    "\n",
    "\n",
    "# import firebase_admin\n",
    "# from firebase_admin import credentials\n",
    "# from firebase_admin import db\n",
    "# import firebase\n",
    "# from firebase import firebase\n"
   ]
  },
  {
   "cell_type": "code",
   "execution_count": null,
   "metadata": {},
   "outputs": [],
   "source": [
    "#packages for roboflow\n",
    "import inference_sdk\n",
    "from inference_sdk import InferenceHTTPClient\n",
    "#packages for computer vision\n",
    "import cv2\n",
    "import cvlib\n",
    "from cvlib.object_detection import draw_bbox\n",
    "import numpy as np\n",
    "import matplotlib.pyplot as plt\n",
    "#libraries for handling request with the camera\n",
    "import requests\n",
    "import urllib.request\n",
    "import time"
   ]
  },
  {
   "cell_type": "code",
   "execution_count": 8,
   "metadata": {},
   "outputs": [
    {
     "name": "stdout",
     "output_type": "stream",
     "text": [
      "Detected class ids: []\n",
      "Detected class ids: []\n",
      "Detected class ids: []\n",
      "Detected class ids: []\n",
      "Detected class ids: []\n",
      "Detected class ids: []\n",
      "Detected class ids: []\n",
      "Detected class ids: []\n",
      "Detected class ids: ['strawberry-ripe']\n",
      "Detected class ids: ['strawberry-ripe']\n"
     ]
    },
    {
     "name": "stderr",
     "output_type": "stream",
     "text": [
      "Corrupt JPEG data: premature end of data segment\n"
     ]
    },
    {
     "name": "stdout",
     "output_type": "stream",
     "text": [
      "Detected class ids: ['strawberry-ripe']\n",
      "Detected class ids: ['strawberry-ripe']\n"
     ]
    },
    {
     "name": "stderr",
     "output_type": "stream",
     "text": [
      "Corrupt JPEG data: premature end of data segment\n"
     ]
    },
    {
     "name": "stdout",
     "output_type": "stream",
     "text": [
      "Detected class ids: ['strawberry-ripe']\n",
      "Detected class ids: ['strawberry-ripe']\n",
      "Detected class ids: ['strawberry-ripe']\n"
     ]
    },
    {
     "name": "stderr",
     "output_type": "stream",
     "text": [
      "Corrupt JPEG data: premature end of data segment\n"
     ]
    },
    {
     "name": "stdout",
     "output_type": "stream",
     "text": [
      "Detected class ids: ['strawberry-ripe']\n",
      "Detected class ids: []\n"
     ]
    },
    {
     "name": "stderr",
     "output_type": "stream",
     "text": [
      "Corrupt JPEG data: premature end of data segment\n"
     ]
    },
    {
     "name": "stdout",
     "output_type": "stream",
     "text": [
      "Detected class ids: ['strawberry-ripe']\n"
     ]
    },
    {
     "name": "stderr",
     "output_type": "stream",
     "text": [
      "Corrupt JPEG data: premature end of data segment\n"
     ]
    },
    {
     "name": "stdout",
     "output_type": "stream",
     "text": [
      "Detected class ids: []\n",
      "Detected class ids: ['strawberry-ripe']\n"
     ]
    },
    {
     "name": "stderr",
     "output_type": "stream",
     "text": [
      "Corrupt JPEG data: premature end of data segment\n"
     ]
    },
    {
     "name": "stdout",
     "output_type": "stream",
     "text": [
      "Detected class ids: ['strawberry-ripe']\n",
      "Detected class ids: []\n",
      "Detected class ids: []\n",
      "Detected class ids: []\n",
      "Detected class ids: []\n",
      "Detected class ids: []\n",
      "Detected class ids: []\n",
      "Detected class ids: []\n",
      "Detected class ids: []\n",
      "Detected class ids: []\n",
      "Detected class ids: []\n",
      "Detected class ids: []\n",
      "Detected class ids: []\n",
      "Detected class ids: []\n",
      "Detected class ids: []\n",
      "Detected class ids: []\n",
      "Detected class ids: []\n",
      "Detected class ids: []\n",
      "Detected class ids: []\n",
      "Detected class ids: []\n",
      "Detected class ids: []\n",
      "Detected class ids: []\n",
      "Detected class ids: []\n",
      "Detected class ids: []\n",
      "Detected class ids: []\n",
      "Detected class ids: []\n",
      "Detected class ids: []\n",
      "Detected class ids: []\n",
      "Detected class ids: []\n",
      "Detected class ids: []\n",
      "Detected class ids: []\n",
      "Detected class ids: []\n",
      "Detected class ids: []\n",
      "Detected class ids: []\n",
      "Detected class ids: []\n",
      "Detected class ids: []\n",
      "Detected class ids: []\n",
      "Detected class ids: []\n",
      "Detected class ids: []\n",
      "Detected class ids: []\n",
      "Detected class ids: []\n",
      "Detected class ids: []\n",
      "Detected class ids: []\n",
      "Detected class ids: []\n",
      "Detected class ids: []\n",
      "Detected class ids: []\n"
     ]
    },
    {
     "ename": "KeyboardInterrupt",
     "evalue": "",
     "output_type": "error",
     "traceback": [
      "\u001b[0;31m---------------------------------------------------------------------------\u001b[0m",
      "\u001b[0;31mKeyboardInterrupt\u001b[0m                         Traceback (most recent call last)",
      "Cell \u001b[0;32mIn[8], line 28\u001b[0m\n\u001b[1;32m     26\u001b[0m \u001b[38;5;66;03m# Pass the frame to inference\u001b[39;00m\n\u001b[1;32m     27\u001b[0m \u001b[38;5;28;01mtry\u001b[39;00m:\n\u001b[0;32m---> 28\u001b[0m     result \u001b[38;5;241m=\u001b[39m CLIENT\u001b[38;5;241m.\u001b[39minfer(img, model_id\u001b[38;5;241m=\u001b[39m\u001b[38;5;124m\"\u001b[39m\u001b[38;5;124mstrawberry-detection-msf0m/3\u001b[39m\u001b[38;5;124m\"\u001b[39m)\n\u001b[1;32m     29\u001b[0m     \u001b[38;5;66;03m# Extract and print class ids from results\u001b[39;00m\n\u001b[1;32m     30\u001b[0m     class_ids \u001b[38;5;241m=\u001b[39m [pred[\u001b[38;5;124m\"\u001b[39m\u001b[38;5;124mclass\u001b[39m\u001b[38;5;124m\"\u001b[39m] \u001b[38;5;28;01mfor\u001b[39;00m pred \u001b[38;5;129;01min\u001b[39;00m result\u001b[38;5;241m.\u001b[39mget(\u001b[38;5;124m\"\u001b[39m\u001b[38;5;124mpredictions\u001b[39m\u001b[38;5;124m\"\u001b[39m, [])]\n",
      "File \u001b[0;32m~/anaconda3/lib/python3.11/site-packages/inference_sdk/http/client.py:83\u001b[0m, in \u001b[0;36mwrap_errors.<locals>.decorate\u001b[0;34m(*args, **kwargs)\u001b[0m\n\u001b[1;32m     81\u001b[0m \u001b[38;5;28;01mdef\u001b[39;00m \u001b[38;5;21mdecorate\u001b[39m(\u001b[38;5;241m*\u001b[39margs, \u001b[38;5;241m*\u001b[39m\u001b[38;5;241m*\u001b[39mkwargs) \u001b[38;5;241m-\u001b[39m\u001b[38;5;241m>\u001b[39m Any:\n\u001b[1;32m     82\u001b[0m     \u001b[38;5;28;01mtry\u001b[39;00m:\n\u001b[0;32m---> 83\u001b[0m         \u001b[38;5;28;01mreturn\u001b[39;00m function(\u001b[38;5;241m*\u001b[39margs, \u001b[38;5;241m*\u001b[39m\u001b[38;5;241m*\u001b[39mkwargs)\n\u001b[1;32m     84\u001b[0m     \u001b[38;5;28;01mexcept\u001b[39;00m HTTPError \u001b[38;5;28;01mas\u001b[39;00m error:\n\u001b[1;32m     85\u001b[0m         \u001b[38;5;28;01mif\u001b[39;00m \u001b[38;5;124m\"\u001b[39m\u001b[38;5;124mapplication/json\u001b[39m\u001b[38;5;124m\"\u001b[39m \u001b[38;5;129;01min\u001b[39;00m error\u001b[38;5;241m.\u001b[39mresponse\u001b[38;5;241m.\u001b[39mheaders\u001b[38;5;241m.\u001b[39mget(\u001b[38;5;124m\"\u001b[39m\u001b[38;5;124mContent-Type\u001b[39m\u001b[38;5;124m\"\u001b[39m, \u001b[38;5;124m\"\u001b[39m\u001b[38;5;124m\"\u001b[39m):\n",
      "File \u001b[0;32m~/anaconda3/lib/python3.11/site-packages/inference_sdk/http/client.py:238\u001b[0m, in \u001b[0;36mInferenceHTTPClient.infer\u001b[0;34m(self, inference_input, model_id)\u001b[0m\n\u001b[1;32m    231\u001b[0m \u001b[38;5;129m@wrap_errors\u001b[39m\n\u001b[1;32m    232\u001b[0m \u001b[38;5;28;01mdef\u001b[39;00m \u001b[38;5;21minfer\u001b[39m(\n\u001b[1;32m    233\u001b[0m     \u001b[38;5;28mself\u001b[39m,\n\u001b[1;32m    234\u001b[0m     inference_input: Union[ImagesReference, List[ImagesReference]],\n\u001b[1;32m    235\u001b[0m     model_id: Optional[\u001b[38;5;28mstr\u001b[39m] \u001b[38;5;241m=\u001b[39m \u001b[38;5;28;01mNone\u001b[39;00m,\n\u001b[1;32m    236\u001b[0m ) \u001b[38;5;241m-\u001b[39m\u001b[38;5;241m>\u001b[39m Union[\u001b[38;5;28mdict\u001b[39m, List[\u001b[38;5;28mdict\u001b[39m]]:\n\u001b[1;32m    237\u001b[0m     \u001b[38;5;28;01mif\u001b[39;00m \u001b[38;5;28mself\u001b[39m\u001b[38;5;241m.\u001b[39m__client_mode \u001b[38;5;129;01mis\u001b[39;00m HTTPClientMode\u001b[38;5;241m.\u001b[39mV0:\n\u001b[0;32m--> 238\u001b[0m         \u001b[38;5;28;01mreturn\u001b[39;00m \u001b[38;5;28mself\u001b[39m\u001b[38;5;241m.\u001b[39minfer_from_api_v0(\n\u001b[1;32m    239\u001b[0m             inference_input\u001b[38;5;241m=\u001b[39minference_input,\n\u001b[1;32m    240\u001b[0m             model_id\u001b[38;5;241m=\u001b[39mmodel_id,\n\u001b[1;32m    241\u001b[0m         )\n\u001b[1;32m    242\u001b[0m     \u001b[38;5;28;01mreturn\u001b[39;00m \u001b[38;5;28mself\u001b[39m\u001b[38;5;241m.\u001b[39minfer_from_api_v1(\n\u001b[1;32m    243\u001b[0m         inference_input\u001b[38;5;241m=\u001b[39minference_input,\n\u001b[1;32m    244\u001b[0m         model_id\u001b[38;5;241m=\u001b[39mmodel_id,\n\u001b[1;32m    245\u001b[0m     )\n",
      "File \u001b[0;32m~/anaconda3/lib/python3.11/site-packages/inference_sdk/http/client.py:300\u001b[0m, in \u001b[0;36mInferenceHTTPClient.infer_from_api_v0\u001b[0;34m(self, inference_input, model_id)\u001b[0m\n\u001b[1;32m    290\u001b[0m params\u001b[38;5;241m.\u001b[39mupdate(\u001b[38;5;28mself\u001b[39m\u001b[38;5;241m.\u001b[39m__inference_configuration\u001b[38;5;241m.\u001b[39mto_legacy_call_parameters())\n\u001b[1;32m    291\u001b[0m requests_data \u001b[38;5;241m=\u001b[39m prepare_requests_data(\n\u001b[1;32m    292\u001b[0m     url\u001b[38;5;241m=\u001b[39m\u001b[38;5;124mf\u001b[39m\u001b[38;5;124m\"\u001b[39m\u001b[38;5;132;01m{\u001b[39;00m\u001b[38;5;28mself\u001b[39m\u001b[38;5;241m.\u001b[39m__api_url\u001b[38;5;132;01m}\u001b[39;00m\u001b[38;5;124m/\u001b[39m\u001b[38;5;132;01m{\u001b[39;00mmodel_id_chunks[\u001b[38;5;241m0\u001b[39m]\u001b[38;5;132;01m}\u001b[39;00m\u001b[38;5;124m/\u001b[39m\u001b[38;5;132;01m{\u001b[39;00mmodel_id_chunks[\u001b[38;5;241m1\u001b[39m]\u001b[38;5;132;01m}\u001b[39;00m\u001b[38;5;124m\"\u001b[39m,\n\u001b[1;32m    293\u001b[0m     encoded_inference_inputs\u001b[38;5;241m=\u001b[39mencoded_inference_inputs,\n\u001b[0;32m   (...)\u001b[0m\n\u001b[1;32m    298\u001b[0m     image_placement\u001b[38;5;241m=\u001b[39mImagePlacement\u001b[38;5;241m.\u001b[39mDATA,\n\u001b[1;32m    299\u001b[0m )\n\u001b[0;32m--> 300\u001b[0m responses \u001b[38;5;241m=\u001b[39m execute_requests_packages(\n\u001b[1;32m    301\u001b[0m     requests_data\u001b[38;5;241m=\u001b[39mrequests_data,\n\u001b[1;32m    302\u001b[0m     request_method\u001b[38;5;241m=\u001b[39mRequestMethod\u001b[38;5;241m.\u001b[39mPOST,\n\u001b[1;32m    303\u001b[0m     max_concurrent_requests\u001b[38;5;241m=\u001b[39m\u001b[38;5;28mself\u001b[39m\u001b[38;5;241m.\u001b[39m__inference_configuration\u001b[38;5;241m.\u001b[39mmax_concurrent_requests,\n\u001b[1;32m    304\u001b[0m )\n\u001b[1;32m    305\u001b[0m results \u001b[38;5;241m=\u001b[39m []\n\u001b[1;32m    306\u001b[0m \u001b[38;5;28;01mfor\u001b[39;00m request_data, response \u001b[38;5;129;01min\u001b[39;00m \u001b[38;5;28mzip\u001b[39m(requests_data, responses):\n",
      "File \u001b[0;32m~/anaconda3/lib/python3.11/site-packages/inference_sdk/http/utils/executors.py:42\u001b[0m, in \u001b[0;36mexecute_requests_packages\u001b[0;34m(requests_data, request_method, max_concurrent_requests)\u001b[0m\n\u001b[1;32m     40\u001b[0m results \u001b[38;5;241m=\u001b[39m []\n\u001b[1;32m     41\u001b[0m \u001b[38;5;28;01mfor\u001b[39;00m requests_data_package \u001b[38;5;129;01min\u001b[39;00m requests_data_packages:\n\u001b[0;32m---> 42\u001b[0m     responses \u001b[38;5;241m=\u001b[39m make_parallel_requests(\n\u001b[1;32m     43\u001b[0m         requests_data\u001b[38;5;241m=\u001b[39mrequests_data_package,\n\u001b[1;32m     44\u001b[0m         request_method\u001b[38;5;241m=\u001b[39mrequest_method,\n\u001b[1;32m     45\u001b[0m     )\n\u001b[1;32m     46\u001b[0m     results\u001b[38;5;241m.\u001b[39mextend(responses)\n\u001b[1;32m     47\u001b[0m \u001b[38;5;28;01mfor\u001b[39;00m response \u001b[38;5;129;01min\u001b[39;00m results:\n",
      "File \u001b[0;32m~/anaconda3/lib/python3.11/site-packages/inference_sdk/http/utils/executors.py:59\u001b[0m, in \u001b[0;36mmake_parallel_requests\u001b[0;34m(requests_data, request_method)\u001b[0m\n\u001b[1;32m     57\u001b[0m make_request_closure \u001b[38;5;241m=\u001b[39m partial(make_request, request_method\u001b[38;5;241m=\u001b[39mrequest_method)\n\u001b[1;32m     58\u001b[0m \u001b[38;5;28;01mwith\u001b[39;00m ThreadPool(processes\u001b[38;5;241m=\u001b[39mworkers) \u001b[38;5;28;01mas\u001b[39;00m pool:\n\u001b[0;32m---> 59\u001b[0m     \u001b[38;5;28;01mreturn\u001b[39;00m pool\u001b[38;5;241m.\u001b[39mmap(\n\u001b[1;32m     60\u001b[0m         make_request_closure,\n\u001b[1;32m     61\u001b[0m         iterable\u001b[38;5;241m=\u001b[39mrequests_data,\n\u001b[1;32m     62\u001b[0m     )\n",
      "File \u001b[0;32m~/anaconda3/lib/python3.11/multiprocessing/pool.py:367\u001b[0m, in \u001b[0;36mPool.map\u001b[0;34m(self, func, iterable, chunksize)\u001b[0m\n\u001b[1;32m    362\u001b[0m \u001b[38;5;28;01mdef\u001b[39;00m \u001b[38;5;21mmap\u001b[39m(\u001b[38;5;28mself\u001b[39m, func, iterable, chunksize\u001b[38;5;241m=\u001b[39m\u001b[38;5;28;01mNone\u001b[39;00m):\n\u001b[1;32m    363\u001b[0m \u001b[38;5;250m    \u001b[39m\u001b[38;5;124;03m'''\u001b[39;00m\n\u001b[1;32m    364\u001b[0m \u001b[38;5;124;03m    Apply `func` to each element in `iterable`, collecting the results\u001b[39;00m\n\u001b[1;32m    365\u001b[0m \u001b[38;5;124;03m    in a list that is returned.\u001b[39;00m\n\u001b[1;32m    366\u001b[0m \u001b[38;5;124;03m    '''\u001b[39;00m\n\u001b[0;32m--> 367\u001b[0m     \u001b[38;5;28;01mreturn\u001b[39;00m \u001b[38;5;28mself\u001b[39m\u001b[38;5;241m.\u001b[39m_map_async(func, iterable, mapstar, chunksize)\u001b[38;5;241m.\u001b[39mget()\n",
      "File \u001b[0;32m~/anaconda3/lib/python3.11/multiprocessing/pool.py:768\u001b[0m, in \u001b[0;36mApplyResult.get\u001b[0;34m(self, timeout)\u001b[0m\n\u001b[1;32m    767\u001b[0m \u001b[38;5;28;01mdef\u001b[39;00m \u001b[38;5;21mget\u001b[39m(\u001b[38;5;28mself\u001b[39m, timeout\u001b[38;5;241m=\u001b[39m\u001b[38;5;28;01mNone\u001b[39;00m):\n\u001b[0;32m--> 768\u001b[0m     \u001b[38;5;28mself\u001b[39m\u001b[38;5;241m.\u001b[39mwait(timeout)\n\u001b[1;32m    769\u001b[0m     \u001b[38;5;28;01mif\u001b[39;00m \u001b[38;5;129;01mnot\u001b[39;00m \u001b[38;5;28mself\u001b[39m\u001b[38;5;241m.\u001b[39mready():\n\u001b[1;32m    770\u001b[0m         \u001b[38;5;28;01mraise\u001b[39;00m \u001b[38;5;167;01mTimeoutError\u001b[39;00m\n",
      "File \u001b[0;32m~/anaconda3/lib/python3.11/multiprocessing/pool.py:765\u001b[0m, in \u001b[0;36mApplyResult.wait\u001b[0;34m(self, timeout)\u001b[0m\n\u001b[1;32m    764\u001b[0m \u001b[38;5;28;01mdef\u001b[39;00m \u001b[38;5;21mwait\u001b[39m(\u001b[38;5;28mself\u001b[39m, timeout\u001b[38;5;241m=\u001b[39m\u001b[38;5;28;01mNone\u001b[39;00m):\n\u001b[0;32m--> 765\u001b[0m     \u001b[38;5;28mself\u001b[39m\u001b[38;5;241m.\u001b[39m_event\u001b[38;5;241m.\u001b[39mwait(timeout)\n",
      "File \u001b[0;32m~/anaconda3/lib/python3.11/threading.py:622\u001b[0m, in \u001b[0;36mEvent.wait\u001b[0;34m(self, timeout)\u001b[0m\n\u001b[1;32m    620\u001b[0m signaled \u001b[38;5;241m=\u001b[39m \u001b[38;5;28mself\u001b[39m\u001b[38;5;241m.\u001b[39m_flag\n\u001b[1;32m    621\u001b[0m \u001b[38;5;28;01mif\u001b[39;00m \u001b[38;5;129;01mnot\u001b[39;00m signaled:\n\u001b[0;32m--> 622\u001b[0m     signaled \u001b[38;5;241m=\u001b[39m \u001b[38;5;28mself\u001b[39m\u001b[38;5;241m.\u001b[39m_cond\u001b[38;5;241m.\u001b[39mwait(timeout)\n\u001b[1;32m    623\u001b[0m \u001b[38;5;28;01mreturn\u001b[39;00m signaled\n",
      "File \u001b[0;32m~/anaconda3/lib/python3.11/threading.py:320\u001b[0m, in \u001b[0;36mCondition.wait\u001b[0;34m(self, timeout)\u001b[0m\n\u001b[1;32m    318\u001b[0m \u001b[38;5;28;01mtry\u001b[39;00m:    \u001b[38;5;66;03m# restore state no matter what (e.g., KeyboardInterrupt)\u001b[39;00m\n\u001b[1;32m    319\u001b[0m     \u001b[38;5;28;01mif\u001b[39;00m timeout \u001b[38;5;129;01mis\u001b[39;00m \u001b[38;5;28;01mNone\u001b[39;00m:\n\u001b[0;32m--> 320\u001b[0m         waiter\u001b[38;5;241m.\u001b[39macquire()\n\u001b[1;32m    321\u001b[0m         gotit \u001b[38;5;241m=\u001b[39m \u001b[38;5;28;01mTrue\u001b[39;00m\n\u001b[1;32m    322\u001b[0m     \u001b[38;5;28;01melse\u001b[39;00m:\n",
      "\u001b[0;31mKeyboardInterrupt\u001b[0m: "
     ]
    },
    {
     "ename": "",
     "evalue": "",
     "output_type": "error",
     "traceback": [
      "\u001b[1;31mThe Kernel crashed while executing code in the current cell or a previous cell. \n",
      "\u001b[1;31mPlease review the code in the cell(s) to identify a possible cause of the failure. \n",
      "\u001b[1;31mClick <a href='https://aka.ms/vscodeJupyterKernelCrash'>here</a> for more info. \n",
      "\u001b[1;31mView Jupyter <a href='command:jupyter.viewOutput'>log</a> for further details."
     ]
    }
   ],
   "source": [
    "# Read the image from the webcam\n",
    "\n",
    "cam_url = \"http://192.168.1.73/cam-.jpg\"\n",
    "\n",
    "\n",
    "cap = cv2.VideoCapture(cam_url)\n",
    "cap.set(3, 640)\n",
    "cap.set(4, 480)\n",
    "\n",
    "\n",
    "\n",
    "CLIENT = InferenceHTTPClient(\n",
    "    api_url=\"https://detect.roboflow.com\",\n",
    "    api_key=\"GmRcGwYcYUQfjQ331pz6\"\n",
    ")\n",
    "\n",
    "\n",
    "while True:\n",
    "    # ret, frame = image.read()\n",
    "    # pass  the image to inference\n",
    "    img_resp = urllib.request.urlopen(cam_url)\n",
    "    imgnp = np.array(bytearray(img_resp.read()), dtype=np.uint8)\n",
    "    img = cv2.imdecode(imgnp, -1)\n",
    "\n",
    "\n",
    "    # Pass the frame to inference\n",
    "    try:\n",
    "        result = CLIENT.infer(img, model_id=\"strawberry-detection-msf0m/3\")\n",
    "        # Extract and print class ids from results\n",
    "        class_ids = [pred[\"class\"] for pred in result.get(\"predictions\", [])]\n",
    "        print(\"Detected class ids:\", class_ids)\n",
    "    except Exception as e:\n",
    "        print(\"Inference error:\", e)\n",
    "\n",
    "    # Display the resulting frame\n",
    "    cv2.imshow(\"Frame\", img)\n",
    "\n",
    "    # Break the loop on 'q' key press\n",
    "    if cv2.waitKey(1) & 0xFF == ord('q'):\n",
    "        break\n",
    "\n",
    "# Release the capture and close windows\n",
    "cap.release()\n",
    "cv2.destroyAllWindows()"
   ]
  },
  {
   "cell_type": "code",
   "execution_count": 5,
   "metadata": {},
   "outputs": [],
   "source": [
    "CLIENT = InferenceHTTPClient(\n",
    "    api_url=\"https://detect.roboflow.com\",\n",
    "    api_key=\"GmRcGwYcYUQfjQ331pz6\"\n",
    ")\n",
    "image_path = \"/Users/user/Desktop/Work/StrawberryDetector/unripe.png\"\n",
    "\n",
    "result = CLIENT.infer(image_path, model_id=\"strawberry-detection-msf0m/3\")"
   ]
  },
  {
   "cell_type": "code",
   "execution_count": 6,
   "metadata": {},
   "outputs": [
    {
     "name": "stdout",
     "output_type": "stream",
     "text": [
      "{'time': 0.027552376999665285, 'image': {'width': 486, 'height': 450}, 'predictions': [{'x': 312.5, 'y': 281.0, 'width': 281.0, 'height': 230.0, 'confidence': 0.9640868306159973, 'class': 'strawberry-unripe', 'class_id': 1, 'detection_id': 'f5631d63-ff99-429d-8af6-4f88bc92488b'}]}\n"
     ]
    }
   ],
   "source": [
    "print(result)"
   ]
  },
  {
   "cell_type": "code",
   "execution_count": 9,
   "metadata": {},
   "outputs": [
    {
     "name": "stdout",
     "output_type": "stream",
     "text": [
      "{'time': 0.03251838599999246, 'image': {'width': 486, 'height': 450}, 'predictions': [{'x': 312.5, 'y': 281.0, 'width': 281.0, 'height': 230.0, 'confidence': 0.9640868306159973, 'class': 'strawberry-unripe', 'class_id': 1, 'detection_id': '503c07b7-a00d-4755-b484-561bc1737666'}]}\n"
     ]
    }
   ],
   "source": [
    "print(result)"
   ]
  },
  {
   "cell_type": "code",
   "execution_count": 10,
   "metadata": {},
   "outputs": [
    {
     "name": "stdout",
     "output_type": "stream",
     "text": [
      "strawberry-unripe\n"
     ]
    }
   ],
   "source": [
    "# extract only the class id from the result and print it\n",
    "class_id = result[\"predictions\"][0][\"class\"]\n",
    "\n",
    "print(class_id)\n"
   ]
  },
  {
   "cell_type": "code",
   "execution_count": null,
   "metadata": {},
   "outputs": [],
   "source": []
  }
 ],
 "metadata": {
  "kernelspec": {
   "display_name": "base",
   "language": "python",
   "name": "python3"
  },
  "language_info": {
   "codemirror_mode": {
    "name": "ipython",
    "version": 3
   },
   "file_extension": ".py",
   "mimetype": "text/x-python",
   "name": "python",
   "nbconvert_exporter": "python",
   "pygments_lexer": "ipython3",
   "version": "3.11.5"
  }
 },
 "nbformat": 4,
 "nbformat_minor": 2
}
